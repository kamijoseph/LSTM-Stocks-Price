{
 "cells": [
  {
   "cell_type": "markdown",
   "id": "b67feaee",
   "metadata": {},
   "source": [
    "# Stocks Price Prediction With LSTM"
   ]
  },
  {
   "cell_type": "code",
   "execution_count": 3,
   "id": "179bc4c8",
   "metadata": {},
   "outputs": [],
   "source": [
    "import numpy as np\n",
    "import pandas as pd\n",
    "import pandas_datareader as pdr\n",
    "import matplotlib.pyplot as plt\n",
    "import datetime as dt\n",
    "import yfinance as yf"
   ]
  },
  {
   "cell_type": "code",
   "execution_count": 2,
   "id": "0315f76c",
   "metadata": {},
   "outputs": [],
   "source": [
    "plt.style.use(\"fivethirtyeight\")\n",
    "%matplotlib inline"
   ]
  },
  {
   "cell_type": "code",
   "execution_count": 5,
   "id": "bfe67f2f",
   "metadata": {},
   "outputs": [
    {
     "name": "stderr",
     "output_type": "stream",
     "text": [
      "/tmp/ipykernel_32578/923481886.py:4: FutureWarning: YF.download() has changed argument auto_adjust default to True\n",
      "  data = yf.download(stock, start, end)\n",
      "[*********************100%***********************]  1 of 1 completed\n"
     ]
    }
   ],
   "source": [
    "stock = \"POWERGRID.NS\"\n",
    "start = dt.datetime(2000, 1, 1)\n",
    "end = dt.datetime(2025, 8, 26)\n",
    "data = yf.download(stock, start, end)"
   ]
  },
  {
   "cell_type": "code",
   "execution_count": 6,
   "id": "8eb5554f",
   "metadata": {},
   "outputs": [
    {
     "data": {
      "text/html": [
       "<div>\n",
       "<style scoped>\n",
       "    .dataframe tbody tr th:only-of-type {\n",
       "        vertical-align: middle;\n",
       "    }\n",
       "\n",
       "    .dataframe tbody tr th {\n",
       "        vertical-align: top;\n",
       "    }\n",
       "\n",
       "    .dataframe thead tr th {\n",
       "        text-align: left;\n",
       "    }\n",
       "\n",
       "    .dataframe thead tr:last-of-type th {\n",
       "        text-align: right;\n",
       "    }\n",
       "</style>\n",
       "<table border=\"1\" class=\"dataframe\">\n",
       "  <thead>\n",
       "    <tr>\n",
       "      <th>Price</th>\n",
       "      <th>Close</th>\n",
       "      <th>High</th>\n",
       "      <th>Low</th>\n",
       "      <th>Open</th>\n",
       "      <th>Volume</th>\n",
       "    </tr>\n",
       "    <tr>\n",
       "      <th>Ticker</th>\n",
       "      <th>POWERGRID.NS</th>\n",
       "      <th>POWERGRID.NS</th>\n",
       "      <th>POWERGRID.NS</th>\n",
       "      <th>POWERGRID.NS</th>\n",
       "      <th>POWERGRID.NS</th>\n",
       "    </tr>\n",
       "    <tr>\n",
       "      <th>Date</th>\n",
       "      <th></th>\n",
       "      <th></th>\n",
       "      <th></th>\n",
       "      <th></th>\n",
       "      <th></th>\n",
       "    </tr>\n",
       "  </thead>\n",
       "  <tbody>\n",
       "    <tr>\n",
       "      <th>2007-10-05</th>\n",
       "      <td>32.246155</td>\n",
       "      <td>35.098946</td>\n",
       "      <td>26.652761</td>\n",
       "      <td>28.784341</td>\n",
       "      <td>855215656</td>\n",
       "    </tr>\n",
       "    <tr>\n",
       "      <th>2007-10-08</th>\n",
       "      <td>30.595383</td>\n",
       "      <td>33.335985</td>\n",
       "      <td>30.403059</td>\n",
       "      <td>33.335985</td>\n",
       "      <td>126671715</td>\n",
       "    </tr>\n",
       "    <tr>\n",
       "      <th>2007-10-09</th>\n",
       "      <td>32.678890</td>\n",
       "      <td>32.967374</td>\n",
       "      <td>28.960645</td>\n",
       "      <td>30.611416</td>\n",
       "      <td>116725709</td>\n",
       "    </tr>\n",
       "    <tr>\n",
       "      <th>2007-10-10</th>\n",
       "      <td>32.983398</td>\n",
       "      <td>33.656530</td>\n",
       "      <td>32.694915</td>\n",
       "      <td>33.528313</td>\n",
       "      <td>67931378</td>\n",
       "    </tr>\n",
       "    <tr>\n",
       "      <th>2007-10-11</th>\n",
       "      <td>36.669582</td>\n",
       "      <td>38.464597</td>\n",
       "      <td>32.694909</td>\n",
       "      <td>38.464597</td>\n",
       "      <td>106320954</td>\n",
       "    </tr>\n",
       "  </tbody>\n",
       "</table>\n",
       "</div>"
      ],
      "text/plain": [
       "Price             Close         High          Low         Open       Volume\n",
       "Ticker     POWERGRID.NS POWERGRID.NS POWERGRID.NS POWERGRID.NS POWERGRID.NS\n",
       "Date                                                                       \n",
       "2007-10-05    32.246155    35.098946    26.652761    28.784341    855215656\n",
       "2007-10-08    30.595383    33.335985    30.403059    33.335985    126671715\n",
       "2007-10-09    32.678890    32.967374    28.960645    30.611416    116725709\n",
       "2007-10-10    32.983398    33.656530    32.694915    33.528313     67931378\n",
       "2007-10-11    36.669582    38.464597    32.694909    38.464597    106320954"
      ]
     },
     "execution_count": 6,
     "metadata": {},
     "output_type": "execute_result"
    }
   ],
   "source": [
    "data.head()"
   ]
  },
  {
   "cell_type": "code",
   "execution_count": 7,
   "id": "3eb9a0b6",
   "metadata": {},
   "outputs": [
    {
     "data": {
      "text/html": [
       "<div>\n",
       "<style scoped>\n",
       "    .dataframe tbody tr th:only-of-type {\n",
       "        vertical-align: middle;\n",
       "    }\n",
       "\n",
       "    .dataframe tbody tr th {\n",
       "        vertical-align: top;\n",
       "    }\n",
       "\n",
       "    .dataframe thead tr th {\n",
       "        text-align: left;\n",
       "    }\n",
       "\n",
       "    .dataframe thead tr:last-of-type th {\n",
       "        text-align: right;\n",
       "    }\n",
       "</style>\n",
       "<table border=\"1\" class=\"dataframe\">\n",
       "  <thead>\n",
       "    <tr>\n",
       "      <th>Price</th>\n",
       "      <th>Close</th>\n",
       "      <th>High</th>\n",
       "      <th>Low</th>\n",
       "      <th>Open</th>\n",
       "      <th>Volume</th>\n",
       "    </tr>\n",
       "    <tr>\n",
       "      <th>Ticker</th>\n",
       "      <th>POWERGRID.NS</th>\n",
       "      <th>POWERGRID.NS</th>\n",
       "      <th>POWERGRID.NS</th>\n",
       "      <th>POWERGRID.NS</th>\n",
       "      <th>POWERGRID.NS</th>\n",
       "    </tr>\n",
       "    <tr>\n",
       "      <th>Date</th>\n",
       "      <th></th>\n",
       "      <th></th>\n",
       "      <th></th>\n",
       "      <th></th>\n",
       "      <th></th>\n",
       "    </tr>\n",
       "  </thead>\n",
       "  <tbody>\n",
       "    <tr>\n",
       "      <th>2025-08-19</th>\n",
       "      <td>288.000000</td>\n",
       "      <td>290.100006</td>\n",
       "      <td>286.549988</td>\n",
       "      <td>290.000000</td>\n",
       "      <td>7196772</td>\n",
       "    </tr>\n",
       "    <tr>\n",
       "      <th>2025-08-20</th>\n",
       "      <td>288.399994</td>\n",
       "      <td>289.000000</td>\n",
       "      <td>286.950012</td>\n",
       "      <td>288.200012</td>\n",
       "      <td>3106073</td>\n",
       "    </tr>\n",
       "    <tr>\n",
       "      <th>2025-08-21</th>\n",
       "      <td>284.000000</td>\n",
       "      <td>289.549988</td>\n",
       "      <td>283.600006</td>\n",
       "      <td>288.399994</td>\n",
       "      <td>7389271</td>\n",
       "    </tr>\n",
       "    <tr>\n",
       "      <th>2025-08-22</th>\n",
       "      <td>283.350006</td>\n",
       "      <td>284.549988</td>\n",
       "      <td>281.799988</td>\n",
       "      <td>284.000000</td>\n",
       "      <td>6824793</td>\n",
       "    </tr>\n",
       "    <tr>\n",
       "      <th>2025-08-25</th>\n",
       "      <td>284.149994</td>\n",
       "      <td>284.600006</td>\n",
       "      <td>282.200012</td>\n",
       "      <td>283.350006</td>\n",
       "      <td>7426789</td>\n",
       "    </tr>\n",
       "  </tbody>\n",
       "</table>\n",
       "</div>"
      ],
      "text/plain": [
       "Price             Close         High          Low         Open       Volume\n",
       "Ticker     POWERGRID.NS POWERGRID.NS POWERGRID.NS POWERGRID.NS POWERGRID.NS\n",
       "Date                                                                       \n",
       "2025-08-19   288.000000   290.100006   286.549988   290.000000      7196772\n",
       "2025-08-20   288.399994   289.000000   286.950012   288.200012      3106073\n",
       "2025-08-21   284.000000   289.549988   283.600006   288.399994      7389271\n",
       "2025-08-22   283.350006   284.549988   281.799988   284.000000      6824793\n",
       "2025-08-25   284.149994   284.600006   282.200012   283.350006      7426789"
      ]
     },
     "execution_count": 7,
     "metadata": {},
     "output_type": "execute_result"
    }
   ],
   "source": [
    "data.tail()"
   ]
  },
  {
   "cell_type": "code",
   "execution_count": 8,
   "id": "d82945a5",
   "metadata": {},
   "outputs": [
    {
     "data": {
      "text/plain": [
       "(4410, 5)"
      ]
     },
     "execution_count": 8,
     "metadata": {},
     "output_type": "execute_result"
    }
   ],
   "source": [
    "data.shape"
   ]
  },
  {
   "cell_type": "code",
   "execution_count": 9,
   "id": "0cf5a6b5",
   "metadata": {},
   "outputs": [
    {
     "data": {
      "text/plain": [
       "Price   Ticker      \n",
       "Close   POWERGRID.NS    0\n",
       "High    POWERGRID.NS    0\n",
       "Low     POWERGRID.NS    0\n",
       "Open    POWERGRID.NS    0\n",
       "Volume  POWERGRID.NS    0\n",
       "dtype: int64"
      ]
     },
     "execution_count": 9,
     "metadata": {},
     "output_type": "execute_result"
    }
   ],
   "source": [
    "data.isnull().sum()"
   ]
  },
  {
   "cell_type": "code",
   "execution_count": 10,
   "id": "06f4afbb",
   "metadata": {},
   "outputs": [
    {
     "name": "stdout",
     "output_type": "stream",
     "text": [
      "<class 'pandas.core.frame.DataFrame'>\n",
      "DatetimeIndex: 4410 entries, 2007-10-05 to 2025-08-25\n",
      "Data columns (total 5 columns):\n",
      " #   Column                  Non-Null Count  Dtype  \n",
      "---  ------                  --------------  -----  \n",
      " 0   (Close, POWERGRID.NS)   4410 non-null   float64\n",
      " 1   (High, POWERGRID.NS)    4410 non-null   float64\n",
      " 2   (Low, POWERGRID.NS)     4410 non-null   float64\n",
      " 3   (Open, POWERGRID.NS)    4410 non-null   float64\n",
      " 4   (Volume, POWERGRID.NS)  4410 non-null   int64  \n",
      "dtypes: float64(4), int64(1)\n",
      "memory usage: 206.7 KB\n"
     ]
    }
   ],
   "source": [
    "data.info()"
   ]
  },
  {
   "cell_type": "code",
   "execution_count": 11,
   "id": "7ab5e9dd",
   "metadata": {},
   "outputs": [
    {
     "data": {
      "text/html": [
       "<div>\n",
       "<style scoped>\n",
       "    .dataframe tbody tr th:only-of-type {\n",
       "        vertical-align: middle;\n",
       "    }\n",
       "\n",
       "    .dataframe tbody tr th {\n",
       "        vertical-align: top;\n",
       "    }\n",
       "\n",
       "    .dataframe thead tr th {\n",
       "        text-align: left;\n",
       "    }\n",
       "</style>\n",
       "<table border=\"1\" class=\"dataframe\">\n",
       "  <thead>\n",
       "    <tr>\n",
       "      <th>Price</th>\n",
       "      <th>Close</th>\n",
       "      <th>High</th>\n",
       "      <th>Low</th>\n",
       "      <th>Open</th>\n",
       "      <th>Volume</th>\n",
       "    </tr>\n",
       "    <tr>\n",
       "      <th>Ticker</th>\n",
       "      <th>POWERGRID.NS</th>\n",
       "      <th>POWERGRID.NS</th>\n",
       "      <th>POWERGRID.NS</th>\n",
       "      <th>POWERGRID.NS</th>\n",
       "      <th>POWERGRID.NS</th>\n",
       "    </tr>\n",
       "  </thead>\n",
       "  <tbody>\n",
       "    <tr>\n",
       "      <th>count</th>\n",
       "      <td>4410.000000</td>\n",
       "      <td>4410.000000</td>\n",
       "      <td>4410.000000</td>\n",
       "      <td>4410.000000</td>\n",
       "      <td>4.410000e+03</td>\n",
       "    </tr>\n",
       "    <tr>\n",
       "      <th>mean</th>\n",
       "      <td>88.773294</td>\n",
       "      <td>89.910392</td>\n",
       "      <td>87.653905</td>\n",
       "      <td>88.814441</td>\n",
       "      <td>1.192109e+07</td>\n",
       "    </tr>\n",
       "    <tr>\n",
       "      <th>std</th>\n",
       "      <td>76.605944</td>\n",
       "      <td>77.489116</td>\n",
       "      <td>75.698593</td>\n",
       "      <td>76.603952</td>\n",
       "      <td>2.018606e+07</td>\n",
       "    </tr>\n",
       "    <tr>\n",
       "      <th>min</th>\n",
       "      <td>18.827005</td>\n",
       "      <td>20.125419</td>\n",
       "      <td>16.879385</td>\n",
       "      <td>20.028038</td>\n",
       "      <td>0.000000e+00</td>\n",
       "    </tr>\n",
       "    <tr>\n",
       "      <th>25%</th>\n",
       "      <td>36.533516</td>\n",
       "      <td>37.079251</td>\n",
       "      <td>36.024959</td>\n",
       "      <td>36.580616</td>\n",
       "      <td>4.923597e+06</td>\n",
       "    </tr>\n",
       "    <tr>\n",
       "      <th>50%</th>\n",
       "      <td>66.064491</td>\n",
       "      <td>67.042116</td>\n",
       "      <td>65.232700</td>\n",
       "      <td>66.055691</td>\n",
       "      <td>8.525476e+06</td>\n",
       "    </tr>\n",
       "    <tr>\n",
       "      <th>75%</th>\n",
       "      <td>97.373302</td>\n",
       "      <td>99.375569</td>\n",
       "      <td>95.972287</td>\n",
       "      <td>97.651247</td>\n",
       "      <td>1.376872e+07</td>\n",
       "    </tr>\n",
       "    <tr>\n",
       "      <th>max</th>\n",
       "      <td>354.580750</td>\n",
       "      <td>355.356950</td>\n",
       "      <td>346.576122</td>\n",
       "      <td>353.222365</td>\n",
       "      <td>8.552157e+08</td>\n",
       "    </tr>\n",
       "  </tbody>\n",
       "</table>\n",
       "</div>"
      ],
      "text/plain": [
       "Price         Close         High          Low         Open        Volume\n",
       "Ticker POWERGRID.NS POWERGRID.NS POWERGRID.NS POWERGRID.NS  POWERGRID.NS\n",
       "count   4410.000000  4410.000000  4410.000000  4410.000000  4.410000e+03\n",
       "mean      88.773294    89.910392    87.653905    88.814441  1.192109e+07\n",
       "std       76.605944    77.489116    75.698593    76.603952  2.018606e+07\n",
       "min       18.827005    20.125419    16.879385    20.028038  0.000000e+00\n",
       "25%       36.533516    37.079251    36.024959    36.580616  4.923597e+06\n",
       "50%       66.064491    67.042116    65.232700    66.055691  8.525476e+06\n",
       "75%       97.373302    99.375569    95.972287    97.651247  1.376872e+07\n",
       "max      354.580750   355.356950   346.576122   353.222365  8.552157e+08"
      ]
     },
     "execution_count": 11,
     "metadata": {},
     "output_type": "execute_result"
    }
   ],
   "source": [
    "data.describe()"
   ]
  },
  {
   "cell_type": "code",
   "execution_count": 12,
   "id": "9220b119",
   "metadata": {},
   "outputs": [],
   "source": [
    "data = data.reset_index()\n"
   ]
  },
  {
   "cell_type": "code",
   "execution_count": 13,
   "id": "62d3874e",
   "metadata": {},
   "outputs": [
    {
     "data": {
      "text/plain": [
       "(4410, 6)"
      ]
     },
     "execution_count": 13,
     "metadata": {},
     "output_type": "execute_result"
    }
   ],
   "source": [
    "data.shape"
   ]
  },
  {
   "cell_type": "code",
   "execution_count": 14,
   "id": "f23e3f6d",
   "metadata": {},
   "outputs": [
    {
     "data": {
      "text/html": [
       "<div>\n",
       "<style scoped>\n",
       "    .dataframe tbody tr th:only-of-type {\n",
       "        vertical-align: middle;\n",
       "    }\n",
       "\n",
       "    .dataframe tbody tr th {\n",
       "        vertical-align: top;\n",
       "    }\n",
       "\n",
       "    .dataframe thead tr th {\n",
       "        text-align: left;\n",
       "    }\n",
       "</style>\n",
       "<table border=\"1\" class=\"dataframe\">\n",
       "  <thead>\n",
       "    <tr>\n",
       "      <th>Price</th>\n",
       "      <th>Date</th>\n",
       "      <th>Close</th>\n",
       "      <th>High</th>\n",
       "      <th>Low</th>\n",
       "      <th>Open</th>\n",
       "      <th>Volume</th>\n",
       "    </tr>\n",
       "    <tr>\n",
       "      <th>Ticker</th>\n",
       "      <th></th>\n",
       "      <th>POWERGRID.NS</th>\n",
       "      <th>POWERGRID.NS</th>\n",
       "      <th>POWERGRID.NS</th>\n",
       "      <th>POWERGRID.NS</th>\n",
       "      <th>POWERGRID.NS</th>\n",
       "    </tr>\n",
       "  </thead>\n",
       "  <tbody>\n",
       "    <tr>\n",
       "      <th>0</th>\n",
       "      <td>2007-10-05</td>\n",
       "      <td>32.246155</td>\n",
       "      <td>35.098946</td>\n",
       "      <td>26.652761</td>\n",
       "      <td>28.784341</td>\n",
       "      <td>855215656</td>\n",
       "    </tr>\n",
       "    <tr>\n",
       "      <th>1</th>\n",
       "      <td>2007-10-08</td>\n",
       "      <td>30.595383</td>\n",
       "      <td>33.335985</td>\n",
       "      <td>30.403059</td>\n",
       "      <td>33.335985</td>\n",
       "      <td>126671715</td>\n",
       "    </tr>\n",
       "    <tr>\n",
       "      <th>2</th>\n",
       "      <td>2007-10-09</td>\n",
       "      <td>32.678890</td>\n",
       "      <td>32.967374</td>\n",
       "      <td>28.960645</td>\n",
       "      <td>30.611416</td>\n",
       "      <td>116725709</td>\n",
       "    </tr>\n",
       "    <tr>\n",
       "      <th>3</th>\n",
       "      <td>2007-10-10</td>\n",
       "      <td>32.983398</td>\n",
       "      <td>33.656530</td>\n",
       "      <td>32.694915</td>\n",
       "      <td>33.528313</td>\n",
       "      <td>67931378</td>\n",
       "    </tr>\n",
       "    <tr>\n",
       "      <th>4</th>\n",
       "      <td>2007-10-11</td>\n",
       "      <td>36.669582</td>\n",
       "      <td>38.464597</td>\n",
       "      <td>32.694909</td>\n",
       "      <td>38.464597</td>\n",
       "      <td>106320954</td>\n",
       "    </tr>\n",
       "  </tbody>\n",
       "</table>\n",
       "</div>"
      ],
      "text/plain": [
       "Price        Date        Close         High          Low         Open  \\\n",
       "Ticker            POWERGRID.NS POWERGRID.NS POWERGRID.NS POWERGRID.NS   \n",
       "0      2007-10-05    32.246155    35.098946    26.652761    28.784341   \n",
       "1      2007-10-08    30.595383    33.335985    30.403059    33.335985   \n",
       "2      2007-10-09    32.678890    32.967374    28.960645    30.611416   \n",
       "3      2007-10-10    32.983398    33.656530    32.694915    33.528313   \n",
       "4      2007-10-11    36.669582    38.464597    32.694909    38.464597   \n",
       "\n",
       "Price        Volume  \n",
       "Ticker POWERGRID.NS  \n",
       "0         855215656  \n",
       "1         126671715  \n",
       "2         116725709  \n",
       "3          67931378  \n",
       "4         106320954  "
      ]
     },
     "execution_count": 14,
     "metadata": {},
     "output_type": "execute_result"
    }
   ],
   "source": [
    "data.head()"
   ]
  },
  {
   "cell_type": "code",
   "execution_count": 16,
   "id": "f3405531",
   "metadata": {},
   "outputs": [
    {
     "data": {
      "text/plain": [
       "MultiIndex([(  'Date',             ''),\n",
       "            ( 'Close', 'POWERGRID.NS'),\n",
       "            (  'High', 'POWERGRID.NS'),\n",
       "            (   'Low', 'POWERGRID.NS'),\n",
       "            (  'Open', 'POWERGRID.NS'),\n",
       "            ('Volume', 'POWERGRID.NS')],\n",
       "           names=['Price', 'Ticker'])"
      ]
     },
     "execution_count": 16,
     "metadata": {},
     "output_type": "execute_result"
    }
   ],
   "source": [
    "data.columns"
   ]
  },
  {
   "cell_type": "code",
   "execution_count": null,
   "id": "56c8f3e0",
   "metadata": {},
   "outputs": [],
   "source": []
  }
 ],
 "metadata": {
  "kernelspec": {
   "display_name": "mldl",
   "language": "python",
   "name": "python3"
  },
  "language_info": {
   "codemirror_mode": {
    "name": "ipython",
    "version": 3
   },
   "file_extension": ".py",
   "mimetype": "text/x-python",
   "name": "python",
   "nbconvert_exporter": "python",
   "pygments_lexer": "ipython3",
   "version": "3.12.11"
  }
 },
 "nbformat": 4,
 "nbformat_minor": 5
}
